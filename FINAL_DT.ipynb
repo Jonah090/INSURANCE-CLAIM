{
  "nbformat": 4,
  "nbformat_minor": 0,
  "metadata": {
    "accelerator": "GPU",
    "colab": {
      "name": "FINAL_DT.ipynb",
      "provenance": [],
      "collapsed_sections": []
    },
    "kernelspec": {
      "display_name": "Python 3",
      "name": "python3"
    },
    "language_info": {
      "name": "python"
    }
  },
  "cells": [
    {
      "cell_type": "code",
      "metadata": {
        "id": "hqW59WqSgBkz"
      },
      "source": [
        "import pandas as pd \n",
        "import numpy as np\n",
        "import seaborn as sns\n",
        "from sklearn.preprocessing import LabelEncoder\n",
        "import matplotlib.pyplot as plt\n",
        "from sklearn.preprocessing import scale \n",
        "from sklearn.model_selection import train_test_split \n",
        "#from sklearn.model_selection import train_test_split # train and test \n",
        "from sklearn import metrics\n",
        "#from sklearn import preprocessing\n",
        "from sklearn.metrics import classification_report "
      ],
      "execution_count": null,
      "outputs": []
    },
    {
      "cell_type": "code",
      "metadata": {
        "colab": {
          "base_uri": "https://localhost:8080/"
        },
        "id": "8Xn6Rr87gRHe",
        "outputId": "0a2bc17c-fc5a-4638-ebc5-c23b14638ce2"
      },
      "source": [
        "from google.colab import drive\n",
        "drive.mount('/content/drive')"
      ],
      "execution_count": null,
      "outputs": [
        {
          "output_type": "stream",
          "text": [
            "Drive already mounted at /content/drive; to attempt to forcibly remount, call drive.mount(\"/content/drive\", force_remount=True).\n"
          ],
          "name": "stdout"
        }
      ]
    },
    {
      "cell_type": "code",
      "metadata": {
        "colab": {
          "base_uri": "https://localhost:8080/",
          "height": 452
        },
        "id": "Jzv9lbtWgRKV",
        "outputId": "713bf91f-3b05-49d0-c06a-9fd5aa427a17"
      },
      "source": [
        "data = pd.read_csv(\"/content/drive/MyDrive/Insurance Dataset.csv\")\n",
        "data.head()"
      ],
      "execution_count": null,
      "outputs": [
        {
          "output_type": "execute_result",
          "data": {
            "text/html": [
              "<div>\n",
              "<style scoped>\n",
              "    .dataframe tbody tr th:only-of-type {\n",
              "        vertical-align: middle;\n",
              "    }\n",
              "\n",
              "    .dataframe tbody tr th {\n",
              "        vertical-align: top;\n",
              "    }\n",
              "\n",
              "    .dataframe thead th {\n",
              "        text-align: right;\n",
              "    }\n",
              "</style>\n",
              "<table border=\"1\" class=\"dataframe\">\n",
              "  <thead>\n",
              "    <tr style=\"text-align: right;\">\n",
              "      <th></th>\n",
              "      <th>Area_Service</th>\n",
              "      <th>Hospital County</th>\n",
              "      <th>Hospital Id</th>\n",
              "      <th>Age</th>\n",
              "      <th>Gender</th>\n",
              "      <th>Cultural_group</th>\n",
              "      <th>ethnicity</th>\n",
              "      <th>Days_spend_hsptl</th>\n",
              "      <th>Admission_type</th>\n",
              "      <th>Home or self care,</th>\n",
              "      <th>ccs_diagnosis_code</th>\n",
              "      <th>ccs_procedure_code</th>\n",
              "      <th>apr_drg_description</th>\n",
              "      <th>Code_illness</th>\n",
              "      <th>Mortality risk</th>\n",
              "      <th>Surg_Description</th>\n",
              "      <th>Weight_baby</th>\n",
              "      <th>Abortion</th>\n",
              "      <th>Emergency dept_yes/No</th>\n",
              "      <th>Tot_charg</th>\n",
              "      <th>Tot_cost</th>\n",
              "      <th>ratio_of_total_costs_to_total_charges</th>\n",
              "      <th>Result</th>\n",
              "      <th>Payment_Typology</th>\n",
              "    </tr>\n",
              "  </thead>\n",
              "  <tbody>\n",
              "    <tr>\n",
              "      <th>0</th>\n",
              "      <td>Western NY</td>\n",
              "      <td>Allegany</td>\n",
              "      <td>37.0</td>\n",
              "      <td>30 to 49</td>\n",
              "      <td>F</td>\n",
              "      <td>White</td>\n",
              "      <td>Not Span/Hispanic</td>\n",
              "      <td>4</td>\n",
              "      <td>Elective</td>\n",
              "      <td>Home or Self Care</td>\n",
              "      <td>122</td>\n",
              "      <td>0</td>\n",
              "      <td>Other pneumonia</td>\n",
              "      <td>1</td>\n",
              "      <td>1.0</td>\n",
              "      <td>Medical</td>\n",
              "      <td>0</td>\n",
              "      <td>N</td>\n",
              "      <td>Y</td>\n",
              "      <td>5511.95</td>\n",
              "      <td>5582.49</td>\n",
              "      <td>1.012798</td>\n",
              "      <td>1</td>\n",
              "      <td>1</td>\n",
              "    </tr>\n",
              "    <tr>\n",
              "      <th>1</th>\n",
              "      <td>Western NY</td>\n",
              "      <td>Allegany</td>\n",
              "      <td>37.0</td>\n",
              "      <td>70 or Older</td>\n",
              "      <td>F</td>\n",
              "      <td>White</td>\n",
              "      <td>Not Span/Hispanic</td>\n",
              "      <td>4</td>\n",
              "      <td>Urgent</td>\n",
              "      <td>Short-term Hospital</td>\n",
              "      <td>197</td>\n",
              "      <td>0</td>\n",
              "      <td>Cellulitis &amp; other skin infections</td>\n",
              "      <td>3</td>\n",
              "      <td>2.0</td>\n",
              "      <td>Medical</td>\n",
              "      <td>0</td>\n",
              "      <td>N</td>\n",
              "      <td>Y</td>\n",
              "      <td>4783.20</td>\n",
              "      <td>5162.82</td>\n",
              "      <td>1.079365</td>\n",
              "      <td>1</td>\n",
              "      <td>1</td>\n",
              "    </tr>\n",
              "    <tr>\n",
              "      <th>2</th>\n",
              "      <td>Western NY</td>\n",
              "      <td>Allegany</td>\n",
              "      <td>37.0</td>\n",
              "      <td>30 to 49</td>\n",
              "      <td>F</td>\n",
              "      <td>White</td>\n",
              "      <td>Not Span/Hispanic</td>\n",
              "      <td>3</td>\n",
              "      <td>Urgent</td>\n",
              "      <td>Home or Self Care</td>\n",
              "      <td>122</td>\n",
              "      <td>0</td>\n",
              "      <td>Other pneumonia</td>\n",
              "      <td>1</td>\n",
              "      <td>1.0</td>\n",
              "      <td>Medical</td>\n",
              "      <td>0</td>\n",
              "      <td>N</td>\n",
              "      <td>Y</td>\n",
              "      <td>3829.15</td>\n",
              "      <td>4056.52</td>\n",
              "      <td>1.059379</td>\n",
              "      <td>1</td>\n",
              "      <td>1</td>\n",
              "    </tr>\n",
              "    <tr>\n",
              "      <th>3</th>\n",
              "      <td>Western NY</td>\n",
              "      <td>Allegany</td>\n",
              "      <td>37.0</td>\n",
              "      <td>0 to 17</td>\n",
              "      <td>F</td>\n",
              "      <td>White</td>\n",
              "      <td>Not Span/Hispanic</td>\n",
              "      <td>1</td>\n",
              "      <td>Urgent</td>\n",
              "      <td>Home or Self Care</td>\n",
              "      <td>122</td>\n",
              "      <td>0</td>\n",
              "      <td>Other pneumonia</td>\n",
              "      <td>1</td>\n",
              "      <td>1.0</td>\n",
              "      <td>Medical</td>\n",
              "      <td>0</td>\n",
              "      <td>N</td>\n",
              "      <td>Y</td>\n",
              "      <td>1108.20</td>\n",
              "      <td>1644.75</td>\n",
              "      <td>1.484167</td>\n",
              "      <td>0</td>\n",
              "      <td>1</td>\n",
              "    </tr>\n",
              "    <tr>\n",
              "      <th>4</th>\n",
              "      <td>Western NY</td>\n",
              "      <td>Allegany</td>\n",
              "      <td>37.0</td>\n",
              "      <td>70 or Older</td>\n",
              "      <td>F</td>\n",
              "      <td>White</td>\n",
              "      <td>Not Span/Hispanic</td>\n",
              "      <td>3</td>\n",
              "      <td>Elective</td>\n",
              "      <td>Home or Self Care</td>\n",
              "      <td>122</td>\n",
              "      <td>0</td>\n",
              "      <td>Other pneumonia</td>\n",
              "      <td>2</td>\n",
              "      <td>3.0</td>\n",
              "      <td>Medical</td>\n",
              "      <td>0</td>\n",
              "      <td>N</td>\n",
              "      <td>Y</td>\n",
              "      <td>3418.18</td>\n",
              "      <td>3370.87</td>\n",
              "      <td>0.986161</td>\n",
              "      <td>1</td>\n",
              "      <td>1</td>\n",
              "    </tr>\n",
              "  </tbody>\n",
              "</table>\n",
              "</div>"
            ],
            "text/plain": [
              "  Area_Service Hospital County  ...  Result Payment_Typology\n",
              "0   Western NY        Allegany  ...       1                1\n",
              "1   Western NY        Allegany  ...       1                1\n",
              "2   Western NY        Allegany  ...       1                1\n",
              "3   Western NY        Allegany  ...       0                1\n",
              "4   Western NY        Allegany  ...       1                1\n",
              "\n",
              "[5 rows x 24 columns]"
            ]
          },
          "metadata": {
            "tags": []
          },
          "execution_count": 35
        }
      ]
    },
    {
      "cell_type": "code",
      "metadata": {
        "id": "gU9rh9lJgRM9"
      },
      "source": [
        "#The method .copy() is used here so that any changes made in new DataFrame don't get reflected in the original one\n",
        "data1=data.copy()"
      ],
      "execution_count": null,
      "outputs": []
    },
    {
      "cell_type": "code",
      "metadata": {
        "colab": {
          "base_uri": "https://localhost:8080/"
        },
        "id": "SOX64gaNgRYo",
        "outputId": "4d0fcae3-d684-45f1-ddde-16f4fd943349"
      },
      "source": [
        "data1.info()"
      ],
      "execution_count": null,
      "outputs": [
        {
          "output_type": "stream",
          "text": [
            "<class 'pandas.core.frame.DataFrame'>\n",
            "RangeIndex: 1048575 entries, 0 to 1048574\n",
            "Data columns (total 24 columns):\n",
            " #   Column                                 Non-Null Count    Dtype  \n",
            "---  ------                                 --------------    -----  \n",
            " 0   Area_Service                           1046119 non-null  object \n",
            " 1   Hospital County                        1046119 non-null  object \n",
            " 2   Hospital Id                            1046119 non-null  float64\n",
            " 3   Age                                    1048575 non-null  object \n",
            " 4   Gender                                 1048575 non-null  object \n",
            " 5   Cultural_group                         1048575 non-null  object \n",
            " 6   ethnicity                              1048575 non-null  object \n",
            " 7   Days_spend_hsptl                       1048575 non-null  object \n",
            " 8   Admission_type                         1048575 non-null  object \n",
            " 9   Home or self care,                     1048575 non-null  object \n",
            " 10  ccs_diagnosis_code                     1048575 non-null  int64  \n",
            " 11  ccs_procedure_code                     1048575 non-null  int64  \n",
            " 12  apr_drg_description                    1048575 non-null  object \n",
            " 13  Code_illness                           1048575 non-null  int64  \n",
            " 14  Mortality risk                         1048533 non-null  float64\n",
            " 15  Surg_Description                       1048575 non-null  object \n",
            " 16  Weight_baby                            1048575 non-null  int64  \n",
            " 17  Abortion                               1048575 non-null  object \n",
            " 18  Emergency dept_yes/No                  1048575 non-null  object \n",
            " 19  Tot_charg                              1048575 non-null  float64\n",
            " 20  Tot_cost                               1048575 non-null  float64\n",
            " 21  ratio_of_total_costs_to_total_charges  1048575 non-null  float64\n",
            " 22  Result                                 1048575 non-null  int64  \n",
            " 23  Payment_Typology                       1048575 non-null  int64  \n",
            "dtypes: float64(5), int64(6), object(13)\n",
            "memory usage: 192.0+ MB\n"
          ],
          "name": "stdout"
        }
      ]
    },
    {
      "cell_type": "code",
      "metadata": {
        "colab": {
          "base_uri": "https://localhost:8080/"
        },
        "id": "vDP_ZVuLhM2D",
        "outputId": "22ba51ba-9710-4400-c715-d593c2814259"
      },
      "source": [
        "data1.shape"
      ],
      "execution_count": null,
      "outputs": [
        {
          "output_type": "execute_result",
          "data": {
            "text/plain": [
              "(1048575, 24)"
            ]
          },
          "metadata": {
            "tags": []
          },
          "execution_count": 38
        }
      ]
    },
    {
      "cell_type": "code",
      "metadata": {
        "colab": {
          "base_uri": "https://localhost:8080/"
        },
        "id": "ErdLtRZLhMvJ",
        "outputId": "2fa5a8d4-66b2-46e7-99a9-5a7bb1bea249"
      },
      "source": [
        "data1.isna().sum()"
      ],
      "execution_count": null,
      "outputs": [
        {
          "output_type": "execute_result",
          "data": {
            "text/plain": [
              "Area_Service                             2456\n",
              "Hospital County                          2456\n",
              "Hospital Id                              2456\n",
              "Age                                         0\n",
              "Gender                                      0\n",
              "Cultural_group                              0\n",
              "ethnicity                                   0\n",
              "Days_spend_hsptl                            0\n",
              "Admission_type                              0\n",
              "Home or self care,                          0\n",
              "ccs_diagnosis_code                          0\n",
              "ccs_procedure_code                          0\n",
              "apr_drg_description                         0\n",
              "Code_illness                                0\n",
              "Mortality risk                             42\n",
              "Surg_Description                            0\n",
              "Weight_baby                                 0\n",
              "Abortion                                    0\n",
              "Emergency dept_yes/No                       0\n",
              "Tot_charg                                   0\n",
              "Tot_cost                                    0\n",
              "ratio_of_total_costs_to_total_charges       0\n",
              "Result                                      0\n",
              "Payment_Typology                            0\n",
              "dtype: int64"
            ]
          },
          "metadata": {
            "tags": []
          },
          "execution_count": 39
        }
      ]
    },
    {
      "cell_type": "code",
      "metadata": {
        "id": "WtGSZRezhMkC"
      },
      "source": [
        "data1[\"Area_Service\"].fillna('Hudson Valley',inplace=True) # data['Area_Service'].mode() = Hudson Valley\n",
        "data1[\"Hospital Id\"].fillna(413.0,inplace=True) # data['Hospital Id'].mode() = 413.0\n",
        "data1[\"Hospital County\"].fillna('Erie',inplace=True) # data['Hospital County'].mode() = Erie\n",
        "data1[\"Mortality risk\"].fillna(1.0,inplace=True) # data['Mortality risk'].mode() = 1.0"
      ],
      "execution_count": null,
      "outputs": []
    },
    {
      "cell_type": "code",
      "metadata": {
        "colab": {
          "base_uri": "https://localhost:8080/"
        },
        "id": "1MZ_LkJ6hv2B",
        "outputId": "9f72c965-b26d-4533-f82b-3b3212e84502"
      },
      "source": [
        "data1.isna().sum() # it is clear that the data is cleaned"
      ],
      "execution_count": null,
      "outputs": [
        {
          "output_type": "execute_result",
          "data": {
            "text/plain": [
              "Area_Service                             0\n",
              "Hospital County                          0\n",
              "Hospital Id                              0\n",
              "Age                                      0\n",
              "Gender                                   0\n",
              "Cultural_group                           0\n",
              "ethnicity                                0\n",
              "Days_spend_hsptl                         0\n",
              "Admission_type                           0\n",
              "Home or self care,                       0\n",
              "ccs_diagnosis_code                       0\n",
              "ccs_procedure_code                       0\n",
              "apr_drg_description                      0\n",
              "Code_illness                             0\n",
              "Mortality risk                           0\n",
              "Surg_Description                         0\n",
              "Weight_baby                              0\n",
              "Abortion                                 0\n",
              "Emergency dept_yes/No                    0\n",
              "Tot_charg                                0\n",
              "Tot_cost                                 0\n",
              "ratio_of_total_costs_to_total_charges    0\n",
              "Result                                   0\n",
              "Payment_Typology                         0\n",
              "dtype: int64"
            ]
          },
          "metadata": {
            "tags": []
          },
          "execution_count": 41
        }
      ]
    },
    {
      "cell_type": "code",
      "metadata": {
        "colab": {
          "base_uri": "https://localhost:8080/",
          "height": 843
        },
        "id": "DTsQZ8zih61h",
        "outputId": "9c1234cb-f69d-4777-92bd-8abcff048e5c"
      },
      "source": [
        "#Print the duplicated rows\n",
        "data1[data1.duplicated()]"
      ],
      "execution_count": null,
      "outputs": [
        {
          "output_type": "execute_result",
          "data": {
            "text/html": [
              "<div>\n",
              "<style scoped>\n",
              "    .dataframe tbody tr th:only-of-type {\n",
              "        vertical-align: middle;\n",
              "    }\n",
              "\n",
              "    .dataframe tbody tr th {\n",
              "        vertical-align: top;\n",
              "    }\n",
              "\n",
              "    .dataframe thead th {\n",
              "        text-align: right;\n",
              "    }\n",
              "</style>\n",
              "<table border=\"1\" class=\"dataframe\">\n",
              "  <thead>\n",
              "    <tr style=\"text-align: right;\">\n",
              "      <th></th>\n",
              "      <th>Area_Service</th>\n",
              "      <th>Hospital County</th>\n",
              "      <th>Hospital Id</th>\n",
              "      <th>Age</th>\n",
              "      <th>Gender</th>\n",
              "      <th>Cultural_group</th>\n",
              "      <th>ethnicity</th>\n",
              "      <th>Days_spend_hsptl</th>\n",
              "      <th>Admission_type</th>\n",
              "      <th>Home or self care,</th>\n",
              "      <th>ccs_diagnosis_code</th>\n",
              "      <th>ccs_procedure_code</th>\n",
              "      <th>apr_drg_description</th>\n",
              "      <th>Code_illness</th>\n",
              "      <th>Mortality risk</th>\n",
              "      <th>Surg_Description</th>\n",
              "      <th>Weight_baby</th>\n",
              "      <th>Abortion</th>\n",
              "      <th>Emergency dept_yes/No</th>\n",
              "      <th>Tot_charg</th>\n",
              "      <th>Tot_cost</th>\n",
              "      <th>ratio_of_total_costs_to_total_charges</th>\n",
              "      <th>Result</th>\n",
              "      <th>Payment_Typology</th>\n",
              "    </tr>\n",
              "  </thead>\n",
              "  <tbody>\n",
              "    <tr>\n",
              "      <th>1125</th>\n",
              "      <td>Western NY</td>\n",
              "      <td>Allegany</td>\n",
              "      <td>39.0</td>\n",
              "      <td>0 to 17</td>\n",
              "      <td>M</td>\n",
              "      <td>White</td>\n",
              "      <td>Not Span/Hispanic</td>\n",
              "      <td>2</td>\n",
              "      <td>Newborn</td>\n",
              "      <td>Home or Self Care</td>\n",
              "      <td>218</td>\n",
              "      <td>115</td>\n",
              "      <td>Neonate birthwt &gt;2499g, normal newborn or neon...</td>\n",
              "      <td>1</td>\n",
              "      <td>1.0</td>\n",
              "      <td>Medical</td>\n",
              "      <td>3700</td>\n",
              "      <td>N</td>\n",
              "      <td>N</td>\n",
              "      <td>1678.75</td>\n",
              "      <td>737.21</td>\n",
              "      <td>0.439141</td>\n",
              "      <td>1</td>\n",
              "      <td>1</td>\n",
              "    </tr>\n",
              "    <tr>\n",
              "      <th>3086</th>\n",
              "      <td>Western NY</td>\n",
              "      <td>Cattaraugus</td>\n",
              "      <td>66.0</td>\n",
              "      <td>0 to 17</td>\n",
              "      <td>M</td>\n",
              "      <td>White</td>\n",
              "      <td>Not Span/Hispanic</td>\n",
              "      <td>2</td>\n",
              "      <td>Newborn</td>\n",
              "      <td>Home or Self Care</td>\n",
              "      <td>218</td>\n",
              "      <td>115</td>\n",
              "      <td>Neonate birthwt &gt;2499g, normal newborn or neon...</td>\n",
              "      <td>1</td>\n",
              "      <td>1.0</td>\n",
              "      <td>Medical</td>\n",
              "      <td>3600</td>\n",
              "      <td>N</td>\n",
              "      <td>N</td>\n",
              "      <td>1251.50</td>\n",
              "      <td>829.70</td>\n",
              "      <td>0.662961</td>\n",
              "      <td>0</td>\n",
              "      <td>1</td>\n",
              "    </tr>\n",
              "    <tr>\n",
              "      <th>3226</th>\n",
              "      <td>Western NY</td>\n",
              "      <td>Cattaraugus</td>\n",
              "      <td>66.0</td>\n",
              "      <td>0 to 17</td>\n",
              "      <td>F</td>\n",
              "      <td>White</td>\n",
              "      <td>Not Span/Hispanic</td>\n",
              "      <td>2</td>\n",
              "      <td>Newborn</td>\n",
              "      <td>Home or Self Care</td>\n",
              "      <td>218</td>\n",
              "      <td>0</td>\n",
              "      <td>Neonate birthwt &gt;2499g, normal newborn or neon...</td>\n",
              "      <td>1</td>\n",
              "      <td>1.0</td>\n",
              "      <td>Medical</td>\n",
              "      <td>2700</td>\n",
              "      <td>N</td>\n",
              "      <td>N</td>\n",
              "      <td>1150.50</td>\n",
              "      <td>788.65</td>\n",
              "      <td>0.685486</td>\n",
              "      <td>1</td>\n",
              "      <td>1</td>\n",
              "    </tr>\n",
              "    <tr>\n",
              "      <th>4209</th>\n",
              "      <td>Western NY</td>\n",
              "      <td>Cattaraugus</td>\n",
              "      <td>66.0</td>\n",
              "      <td>0 to 17</td>\n",
              "      <td>F</td>\n",
              "      <td>White</td>\n",
              "      <td>Not Span/Hispanic</td>\n",
              "      <td>2</td>\n",
              "      <td>Newborn</td>\n",
              "      <td>Home or Self Care</td>\n",
              "      <td>218</td>\n",
              "      <td>0</td>\n",
              "      <td>Neonate birthwt &gt;2499g, normal newborn or neon...</td>\n",
              "      <td>1</td>\n",
              "      <td>1.0</td>\n",
              "      <td>Medical</td>\n",
              "      <td>2700</td>\n",
              "      <td>N</td>\n",
              "      <td>N</td>\n",
              "      <td>1150.50</td>\n",
              "      <td>788.65</td>\n",
              "      <td>0.685486</td>\n",
              "      <td>1</td>\n",
              "      <td>1</td>\n",
              "    </tr>\n",
              "    <tr>\n",
              "      <th>4234</th>\n",
              "      <td>Western NY</td>\n",
              "      <td>Cattaraugus</td>\n",
              "      <td>66.0</td>\n",
              "      <td>0 to 17</td>\n",
              "      <td>F</td>\n",
              "      <td>White</td>\n",
              "      <td>Not Span/Hispanic</td>\n",
              "      <td>2</td>\n",
              "      <td>Newborn</td>\n",
              "      <td>Home or Self Care</td>\n",
              "      <td>218</td>\n",
              "      <td>0</td>\n",
              "      <td>Neonate birthwt &gt;2499g, normal newborn or neon...</td>\n",
              "      <td>1</td>\n",
              "      <td>1.0</td>\n",
              "      <td>Medical</td>\n",
              "      <td>2800</td>\n",
              "      <td>N</td>\n",
              "      <td>N</td>\n",
              "      <td>1150.50</td>\n",
              "      <td>788.65</td>\n",
              "      <td>0.685486</td>\n",
              "      <td>0</td>\n",
              "      <td>1</td>\n",
              "    </tr>\n",
              "    <tr>\n",
              "      <th>...</th>\n",
              "      <td>...</td>\n",
              "      <td>...</td>\n",
              "      <td>...</td>\n",
              "      <td>...</td>\n",
              "      <td>...</td>\n",
              "      <td>...</td>\n",
              "      <td>...</td>\n",
              "      <td>...</td>\n",
              "      <td>...</td>\n",
              "      <td>...</td>\n",
              "      <td>...</td>\n",
              "      <td>...</td>\n",
              "      <td>...</td>\n",
              "      <td>...</td>\n",
              "      <td>...</td>\n",
              "      <td>...</td>\n",
              "      <td>...</td>\n",
              "      <td>...</td>\n",
              "      <td>...</td>\n",
              "      <td>...</td>\n",
              "      <td>...</td>\n",
              "      <td>...</td>\n",
              "      <td>...</td>\n",
              "      <td>...</td>\n",
              "    </tr>\n",
              "    <tr>\n",
              "      <th>1015327</th>\n",
              "      <td>New York City</td>\n",
              "      <td>Bronx</td>\n",
              "      <td>1168.0</td>\n",
              "      <td>0 to 17</td>\n",
              "      <td>F</td>\n",
              "      <td>Other Race</td>\n",
              "      <td>Not Span/Hispanic</td>\n",
              "      <td>2</td>\n",
              "      <td>Newborn</td>\n",
              "      <td>Home or Self Care</td>\n",
              "      <td>218</td>\n",
              "      <td>228</td>\n",
              "      <td>Neonate birthwt &gt;2499g, normal newborn or neon...</td>\n",
              "      <td>1</td>\n",
              "      <td>1.0</td>\n",
              "      <td>Medical</td>\n",
              "      <td>2900</td>\n",
              "      <td>N</td>\n",
              "      <td>N</td>\n",
              "      <td>5955.85</td>\n",
              "      <td>1303.62</td>\n",
              "      <td>0.218881</td>\n",
              "      <td>1</td>\n",
              "      <td>3</td>\n",
              "    </tr>\n",
              "    <tr>\n",
              "      <th>1025529</th>\n",
              "      <td>New York City</td>\n",
              "      <td>Bronx</td>\n",
              "      <td>1169.0</td>\n",
              "      <td>0 to 17</td>\n",
              "      <td>F</td>\n",
              "      <td>Other Race</td>\n",
              "      <td>Spanish/Hispanic</td>\n",
              "      <td>2</td>\n",
              "      <td>Elective</td>\n",
              "      <td>Home or Self Care</td>\n",
              "      <td>83</td>\n",
              "      <td>227</td>\n",
              "      <td>Seizure</td>\n",
              "      <td>2</td>\n",
              "      <td>1.0</td>\n",
              "      <td>Medical</td>\n",
              "      <td>0</td>\n",
              "      <td>N</td>\n",
              "      <td>N</td>\n",
              "      <td>12500.00</td>\n",
              "      <td>2960.11</td>\n",
              "      <td>0.236809</td>\n",
              "      <td>1</td>\n",
              "      <td>3</td>\n",
              "    </tr>\n",
              "    <tr>\n",
              "      <th>1028997</th>\n",
              "      <td>New York City</td>\n",
              "      <td>Bronx</td>\n",
              "      <td>1169.0</td>\n",
              "      <td>0 to 17</td>\n",
              "      <td>F</td>\n",
              "      <td>Other Race</td>\n",
              "      <td>Spanish/Hispanic</td>\n",
              "      <td>2</td>\n",
              "      <td>Elective</td>\n",
              "      <td>Home or Self Care</td>\n",
              "      <td>83</td>\n",
              "      <td>227</td>\n",
              "      <td>Seizure</td>\n",
              "      <td>1</td>\n",
              "      <td>1.0</td>\n",
              "      <td>Medical</td>\n",
              "      <td>0</td>\n",
              "      <td>N</td>\n",
              "      <td>N</td>\n",
              "      <td>12557.00</td>\n",
              "      <td>2963.40</td>\n",
              "      <td>0.235996</td>\n",
              "      <td>1</td>\n",
              "      <td>2</td>\n",
              "    </tr>\n",
              "    <tr>\n",
              "      <th>1035973</th>\n",
              "      <td>New York City</td>\n",
              "      <td>Bronx</td>\n",
              "      <td>1169.0</td>\n",
              "      <td>0 to 17</td>\n",
              "      <td>F</td>\n",
              "      <td>Other Race</td>\n",
              "      <td>Spanish/Hispanic</td>\n",
              "      <td>2</td>\n",
              "      <td>Elective</td>\n",
              "      <td>Home or Self Care</td>\n",
              "      <td>83</td>\n",
              "      <td>227</td>\n",
              "      <td>Seizure</td>\n",
              "      <td>2</td>\n",
              "      <td>1.0</td>\n",
              "      <td>Medical</td>\n",
              "      <td>0</td>\n",
              "      <td>N</td>\n",
              "      <td>N</td>\n",
              "      <td>12500.00</td>\n",
              "      <td>2960.11</td>\n",
              "      <td>0.236809</td>\n",
              "      <td>1</td>\n",
              "      <td>3</td>\n",
              "    </tr>\n",
              "    <tr>\n",
              "      <th>1043713</th>\n",
              "      <td>New York City</td>\n",
              "      <td>Bronx</td>\n",
              "      <td>1169.0</td>\n",
              "      <td>0 to 17</td>\n",
              "      <td>M</td>\n",
              "      <td>Other Race</td>\n",
              "      <td>Spanish/Hispanic</td>\n",
              "      <td>10</td>\n",
              "      <td>Emergency</td>\n",
              "      <td>Home or Self Care</td>\n",
              "      <td>135</td>\n",
              "      <td>0</td>\n",
              "      <td>Other gastroenteritis, nausa &amp; vomiting</td>\n",
              "      <td>3</td>\n",
              "      <td>3.0</td>\n",
              "      <td>Medical</td>\n",
              "      <td>0</td>\n",
              "      <td>N</td>\n",
              "      <td>Y</td>\n",
              "      <td>65223.50</td>\n",
              "      <td>19853.07</td>\n",
              "      <td>0.304385</td>\n",
              "      <td>0</td>\n",
              "      <td>3</td>\n",
              "    </tr>\n",
              "  </tbody>\n",
              "</table>\n",
              "<p>4814 rows × 24 columns</p>\n",
              "</div>"
            ],
            "text/plain": [
              "          Area_Service Hospital County  ...  Result Payment_Typology\n",
              "1125        Western NY        Allegany  ...       1                1\n",
              "3086        Western NY     Cattaraugus  ...       0                1\n",
              "3226        Western NY     Cattaraugus  ...       1                1\n",
              "4209        Western NY     Cattaraugus  ...       1                1\n",
              "4234        Western NY     Cattaraugus  ...       0                1\n",
              "...                ...             ...  ...     ...              ...\n",
              "1015327  New York City           Bronx  ...       1                3\n",
              "1025529  New York City           Bronx  ...       1                3\n",
              "1028997  New York City           Bronx  ...       1                2\n",
              "1035973  New York City           Bronx  ...       1                3\n",
              "1043713  New York City           Bronx  ...       0                3\n",
              "\n",
              "[4814 rows x 24 columns]"
            ]
          },
          "metadata": {
            "tags": []
          },
          "execution_count": 42
        }
      ]
    },
    {
      "cell_type": "code",
      "metadata": {
        "colab": {
          "base_uri": "https://localhost:8080/"
        },
        "id": "dCn7UD0th6x9",
        "outputId": "232d87de-58c7-41cf-b9c4-b9dc28c061fc"
      },
      "source": [
        "#Count of duplicated rows\n",
        "data[data.duplicated()].shape"
      ],
      "execution_count": null,
      "outputs": [
        {
          "output_type": "execute_result",
          "data": {
            "text/plain": [
              "(4814, 24)"
            ]
          },
          "metadata": {
            "tags": []
          },
          "execution_count": 43
        }
      ]
    },
    {
      "cell_type": "code",
      "metadata": {
        "id": "ERZ7DltJiBmP"
      },
      "source": [
        "data_cleaned=data1.drop_duplicates()"
      ],
      "execution_count": null,
      "outputs": []
    },
    {
      "cell_type": "code",
      "metadata": {
        "colab": {
          "base_uri": "https://localhost:8080/"
        },
        "id": "FivyqJhDiBjB",
        "outputId": "cc4cbb35-d3f6-47d6-9b76-f9b488f090bb"
      },
      "source": [
        "data_cleaned.shape"
      ],
      "execution_count": null,
      "outputs": [
        {
          "output_type": "execute_result",
          "data": {
            "text/plain": [
              "(1043761, 24)"
            ]
          },
          "metadata": {
            "tags": []
          },
          "execution_count": 45
        }
      ]
    },
    {
      "cell_type": "code",
      "metadata": {
        "colab": {
          "base_uri": "https://localhost:8080/"
        },
        "id": "XppqBymfiBf0",
        "outputId": "f2286ebf-8490-4e25-ef52-3ab1d97651bb"
      },
      "source": [
        "Q1 = data_cleaned.quantile(0.25)\n",
        "Q3 = data_cleaned.quantile(0.75)\n",
        "IQR = Q3 - Q1\n",
        "print(IQR)"
      ],
      "execution_count": null,
      "outputs": [
        {
          "output_type": "stream",
          "text": [
            "Hospital Id                                764.000000\n",
            "ccs_diagnosis_code                         110.000000\n",
            "ccs_procedure_code                         172.000000\n",
            "Code_illness                                 2.000000\n",
            "Mortality risk                               2.000000\n",
            "Weight_baby                                  0.000000\n",
            "Tot_charg                                21768.750000\n",
            "Tot_cost                                  8115.200000\n",
            "ratio_of_total_costs_to_total_charges        0.205405\n",
            "Result                                       1.000000\n",
            "Payment_Typology                             2.000000\n",
            "dtype: float64\n"
          ],
          "name": "stdout"
        }
      ]
    },
    {
      "cell_type": "code",
      "metadata": {
        "id": "gf4oOe0ciav1"
      },
      "source": [
        "data_cleaned = data_cleaned[~((data_cleaned < (Q1 - 1.5 * IQR)) |(data_cleaned > (Q3 + 1.5 * IQR))).any(axis=1)]"
      ],
      "execution_count": null,
      "outputs": []
    },
    {
      "cell_type": "code",
      "metadata": {
        "colab": {
          "base_uri": "https://localhost:8080/"
        },
        "id": "hEOOeDUgiar4",
        "outputId": "b01228a2-1924-40a9-fcf2-9394f51fdbe6"
      },
      "source": [
        "len(data_cleaned['Days_spend_hsptl'].unique())"
      ],
      "execution_count": null,
      "outputs": [
        {
          "output_type": "execute_result",
          "data": {
            "text/plain": [
              "57"
            ]
          },
          "metadata": {
            "tags": []
          },
          "execution_count": 48
        }
      ]
    },
    {
      "cell_type": "code",
      "metadata": {
        "colab": {
          "base_uri": "https://localhost:8080/"
        },
        "id": "I2wZCBGqiaiN",
        "outputId": "3407e4f0-ddca-49a4-f9de-16a4150234be"
      },
      "source": [
        "data_cleaned['Days_spend_hsptl'].unique()"
      ],
      "execution_count": null,
      "outputs": [
        {
          "output_type": "execute_result",
          "data": {
            "text/plain": [
              "array(['3', '1', '2', '14', '5', '4', '9', '8', '10', '6', '12', '7',\n",
              "       '11', '13', '16', '15', '18', '23', '21', '22', '19', '24', '20',\n",
              "       '17', '26', '58', '30', '27', '34', '70', '31', '25', '29', '32',\n",
              "       '28', '33', '36', '37', '35', '120 +', '48', '60', '97', '50',\n",
              "       '66', '64', '53', '56', '38', '41', '40', '46', '51', '44', '43',\n",
              "       '39', '42'], dtype=object)"
            ]
          },
          "metadata": {
            "tags": []
          },
          "execution_count": 49
        }
      ]
    },
    {
      "cell_type": "code",
      "metadata": {
        "id": "tbqQKg7mikhH"
      },
      "source": [
        "data_cleaned['Days_spend_hsptl'].replace(to_replace='120 +',value='121',inplace=True)"
      ],
      "execution_count": null,
      "outputs": []
    },
    {
      "cell_type": "code",
      "metadata": {
        "id": "AxL66L5qikeR"
      },
      "source": [
        "data_cleaned['Days_spend_hsptl']=data_cleaned['Days_spend_hsptl'].astype('int64')"
      ],
      "execution_count": null,
      "outputs": []
    },
    {
      "cell_type": "code",
      "metadata": {
        "colab": {
          "base_uri": "https://localhost:8080/"
        },
        "id": "MHYmwEs3ikbR",
        "outputId": "9f4e1348-1b77-41f6-ad98-371e31289caa"
      },
      "source": [
        "data_cleaned['Days_spend_hsptl'].unique()"
      ],
      "execution_count": null,
      "outputs": [
        {
          "output_type": "execute_result",
          "data": {
            "text/plain": [
              "array([  3,   1,   2,  14,   5,   4,   9,   8,  10,   6,  12,   7,  11,\n",
              "        13,  16,  15,  18,  23,  21,  22,  19,  24,  20,  17,  26,  58,\n",
              "        30,  27,  34,  70,  31,  25,  29,  32,  28,  33,  36,  37,  35,\n",
              "       121,  48,  60,  97,  50,  66,  64,  53,  56,  38,  41,  40,  46,\n",
              "        51,  44,  43,  39,  42])"
            ]
          },
          "metadata": {
            "tags": []
          },
          "execution_count": 52
        }
      ]
    },
    {
      "cell_type": "code",
      "metadata": {
        "id": "eR_aHq5CikSu"
      },
      "source": [
        "labelencoder = LabelEncoder()\n",
        "data_cleaned.iloc[:,0] = labelencoder.fit_transform(data_cleaned.iloc[:,0])\n",
        "data_cleaned.iloc[:,1] = labelencoder.fit_transform(data_cleaned.iloc[:,1])\n",
        "data_cleaned.iloc[:,3] = labelencoder.fit_transform(data_cleaned.iloc[:,3])\n",
        "data_cleaned.iloc[:,4] = labelencoder.fit_transform(data_cleaned.iloc[:,4])\n",
        "data_cleaned.iloc[:,5] = labelencoder.fit_transform(data_cleaned.iloc[:,5])\n",
        "data_cleaned.iloc[:,6] = labelencoder.fit_transform(data_cleaned.iloc[:,6])\n",
        "data_cleaned.iloc[:,8] = labelencoder.fit_transform(data_cleaned.iloc[:,8])\n",
        "data_cleaned.iloc[:,9] = labelencoder.fit_transform(data_cleaned.iloc[:,9])\n",
        "data_cleaned.iloc[:,12] = labelencoder.fit_transform(data_cleaned.iloc[:,12])\n",
        "data_cleaned.iloc[:,15] = labelencoder.fit_transform(data_cleaned.iloc[:,15])\n",
        "data_cleaned.iloc[:,17] = labelencoder.fit_transform(data_cleaned.iloc[:,17])\n",
        "data_cleaned.iloc[:,18] = labelencoder.fit_transform(data_cleaned.iloc[:,18])"
      ],
      "execution_count": null,
      "outputs": []
    },
    {
      "cell_type": "code",
      "metadata": {
        "id": "s9-HumQnikPv"
      },
      "source": [
        "X=data_cleaned.drop(['Result'],axis=1)\n",
        "Y= data_cleaned.Result "
      ],
      "execution_count": null,
      "outputs": []
    },
    {
      "cell_type": "code",
      "metadata": {
        "id": "LAtUKIVqi-ip"
      },
      "source": [
        "data_cleaned.drop(['Abortion','Surg_Description','Emergency dept_yes/No','ethnicity','Admission_type','Area_Service','Weight_baby','Hospital County','Gender','Cultural_group','Payment_Typology','Mortality risk'],inplace=True,axis=1)"
      ],
      "execution_count": null,
      "outputs": []
    },
    {
      "cell_type": "code",
      "metadata": {
        "id": "UrFJBJNrjEZB"
      },
      "source": [
        "X1 = data_cleaned.drop(['Result'],axis=1)\n",
        "Y= data_cleaned.Result "
      ],
      "execution_count": null,
      "outputs": []
    },
    {
      "cell_type": "code",
      "metadata": {
        "colab": {
          "base_uri": "https://localhost:8080/"
        },
        "id": "7BmXSej7kEbK",
        "outputId": "3995e97d-d1ef-49a5-f0a1-97cee2805e41"
      },
      "source": [
        "from imblearn.combine import SMOTETomek\n",
        "smot = SMOTETomek(ratio=\"auto\",random_state=42)\n",
        "x_smot, y_smot = smot.fit_sample(X1,Y)"
      ],
      "execution_count": null,
      "outputs": [
        {
          "output_type": "stream",
          "text": [
            "/usr/local/lib/python3.7/dist-packages/sklearn/externals/six.py:31: FutureWarning: The module is deprecated in version 0.21 and will be removed in version 0.23 since we've dropped support for Python 2.7. Please rely on the official version of six (https://pypi.org/project/six/).\n",
            "  \"(https://pypi.org/project/six/).\", FutureWarning)\n",
            "/usr/local/lib/python3.7/dist-packages/sklearn/utils/deprecation.py:144: FutureWarning: The sklearn.neighbors.base module is  deprecated in version 0.22 and will be removed in version 0.24. The corresponding classes / functions should instead be imported from sklearn.neighbors. Anything that cannot be imported from sklearn.neighbors is now part of the private API.\n",
            "  warnings.warn(message, FutureWarning)\n",
            "/usr/local/lib/python3.7/dist-packages/sklearn/utils/deprecation.py:87: FutureWarning: Function safe_indexing is deprecated; safe_indexing is deprecated in version 0.22 and will be removed in version 0.24.\n",
            "  warnings.warn(msg, category=FutureWarning)\n",
            "/usr/local/lib/python3.7/dist-packages/sklearn/utils/deprecation.py:87: FutureWarning: Function safe_indexing is deprecated; safe_indexing is deprecated in version 0.22 and will be removed in version 0.24.\n",
            "  warnings.warn(msg, category=FutureWarning)\n"
          ],
          "name": "stderr"
        }
      ]
    },
    {
      "cell_type": "code",
      "metadata": {
        "colab": {
          "base_uri": "https://localhost:8080/"
        },
        "id": "GEIZf6A5kEY2",
        "outputId": "2d4d0e76-2be8-4705-b426-2a4e719e2a3c"
      },
      "source": [
        "from collections import Counter\n",
        "print(Counter(Y))\n",
        "print(Counter(y_smot))"
      ],
      "execution_count": null,
      "outputs": [
        {
          "output_type": "stream",
          "text": [
            "Counter({1: 525966, 0: 175146})\n",
            "Counter({1: 500819, 0: 500819})\n"
          ],
          "name": "stdout"
        }
      ]
    },
    {
      "cell_type": "code",
      "metadata": {
        "id": "R5c3LFTokEWO"
      },
      "source": [
        "# splitting the data into training and testing dataset\n",
        "from sklearn.model_selection import train_test_split\n",
        "x_train,x_test,y_train,y_test=train_test_split(x_smot,y_smot,test_size=0.3) "
      ],
      "execution_count": null,
      "outputs": []
    },
    {
      "cell_type": "code",
      "metadata": {
        "id": "rJVPxEUElJte"
      },
      "source": [
        "\n",
        "from sklearn.linear_model import LogisticRegression\n",
        "from sklearn.neighbors import KNeighborsClassifier\n",
        "from sklearn.svm import SVC\n",
        "from sklearn.tree import DecisionTreeClassifier\n",
        "from sklearn.ensemble import BaggingClassifier\n",
        "from sklearn.ensemble import AdaBoostClassifier\n",
        "from sklearn.ensemble import RandomForestClassifier\n",
        "from sklearn.metrics import classification_report\n",
        "from sklearn.metrics import roc_auc_score,roc_curve\n",
        "from sklearn.model_selection import StratifiedKFold\n",
        "from sklearn.model_selection import GridSearchCV\n",
        "from scipy.stats import randint\n",
        "from xgboost import XGBClassifier"
      ],
      "execution_count": null,
      "outputs": []
    },
    {
      "cell_type": "code",
      "metadata": {
        "id": "AJwEQR07it2O"
      },
      "source": [
        "#Model Building using decision tree"
      ],
      "execution_count": null,
      "outputs": []
    },
    {
      "cell_type": "markdown",
      "metadata": {
        "id": "vFIr-B8ojz-p"
      },
      "source": [
        "#Model Building using decision tree"
      ]
    },
    {
      "cell_type": "code",
      "metadata": {
        "colab": {
          "base_uri": "https://localhost:8080/"
        },
        "id": "ECcGEgMTkEN-",
        "outputId": "e5413fd0-6b52-478e-c87e-1a976c2ffe09"
      },
      "source": [
        "clf1 = DecisionTreeClassifier()\n",
        "params1 = {'max_depth': range(6,11),\n",
        "          'max_features': range(6,11),\n",
        "          'criterion': ['gini','entropy']}\n",
        "cv = StratifiedKFold(n_splits=3,random_state=42)  "
      ],
      "execution_count": null,
      "outputs": [
        {
          "output_type": "stream",
          "text": [
            "/usr/local/lib/python3.7/dist-packages/sklearn/model_selection/_split.py:296: FutureWarning: Setting a random_state has no effect since shuffle is False. This will raise an error in 0.24. You should leave random_state to its default (None), or set shuffle=True.\n",
            "  FutureWarning\n"
          ],
          "name": "stderr"
        }
      ]
    },
    {
      "cell_type": "code",
      "metadata": {
        "colab": {
          "base_uri": "https://localhost:8080/"
        },
        "id": "XlUmXbjHlDxy",
        "outputId": "e91b9fb1-9191-4b77-82fa-004cbb736b31"
      },
      "source": [
        "grid = GridSearchCV(clf1,params1,cv=cv,n_jobs=-1,scoring='accuracy',error_score=0)\n",
        "grid.fit(x_train,y_train)"
      ],
      "execution_count": null,
      "outputs": [
        {
          "output_type": "execute_result",
          "data": {
            "text/plain": [
              "GridSearchCV(cv=StratifiedKFold(n_splits=3, random_state=42, shuffle=False),\n",
              "             error_score=0,\n",
              "             estimator=DecisionTreeClassifier(ccp_alpha=0.0, class_weight=None,\n",
              "                                              criterion='gini', max_depth=None,\n",
              "                                              max_features=None,\n",
              "                                              max_leaf_nodes=None,\n",
              "                                              min_impurity_decrease=0.0,\n",
              "                                              min_impurity_split=None,\n",
              "                                              min_samples_leaf=1,\n",
              "                                              min_samples_split=2,\n",
              "                                              min_weight_fraction_leaf=0.0,\n",
              "                                              presort='deprecated',\n",
              "                                              random_state=None,\n",
              "                                              splitter='best'),\n",
              "             iid='deprecated', n_jobs=-1,\n",
              "             param_grid={'criterion': ['gini', 'entropy'],\n",
              "                         'max_depth': range(6, 11),\n",
              "                         'max_features': range(6, 11)},\n",
              "             pre_dispatch='2*n_jobs', refit=True, return_train_score=False,\n",
              "             scoring='accuracy', verbose=0)"
            ]
          },
          "metadata": {
            "tags": []
          },
          "execution_count": 68
        }
      ]
    },
    {
      "cell_type": "code",
      "metadata": {
        "colab": {
          "base_uri": "https://localhost:8080/"
        },
        "id": "PLOwrtjJlDkB",
        "outputId": "71b06695-a809-4df3-a0b6-d61c966b8dab"
      },
      "source": [
        "print(\"Best: %f using %s\" % (grid.best_score_,grid.best_params_))"
      ],
      "execution_count": null,
      "outputs": [
        {
          "output_type": "stream",
          "text": [
            "Best: 0.804912 using {'criterion': 'gini', 'max_depth': 10, 'max_features': 9}\n"
          ],
          "name": "stdout"
        }
      ]
    },
    {
      "cell_type": "markdown",
      "metadata": {
        "id": "ADj2UM8JkD7x"
      },
      "source": [
        "###Model building using best Hyperparameters\n",
        "\n"
      ]
    },
    {
      "cell_type": "code",
      "metadata": {
        "colab": {
          "base_uri": "https://localhost:8080/"
        },
        "id": "faIEBNDanRut",
        "outputId": "9084331d-423d-4518-bcf7-96a987fafb70"
      },
      "source": [
        "model = DecisionTreeClassifier(criterion='gini',max_depth=10,max_features=9)\n",
        "model.fit(x_train,y_train)"
      ],
      "execution_count": null,
      "outputs": [
        {
          "output_type": "execute_result",
          "data": {
            "text/plain": [
              "DecisionTreeClassifier(ccp_alpha=0.0, class_weight=None, criterion='gini',\n",
              "                       max_depth=10, max_features=9, max_leaf_nodes=None,\n",
              "                       min_impurity_decrease=0.0, min_impurity_split=None,\n",
              "                       min_samples_leaf=1, min_samples_split=2,\n",
              "                       min_weight_fraction_leaf=0.0, presort='deprecated',\n",
              "                       random_state=None, splitter='best')"
            ]
          },
          "metadata": {
            "tags": []
          },
          "execution_count": 70
        }
      ]
    },
    {
      "cell_type": "code",
      "metadata": {
        "colab": {
          "base_uri": "https://localhost:8080/"
        },
        "id": "XB1gSxZ4nq8c",
        "outputId": "9c2aa18b-5d08-4960-cf5c-a7babd74757a"
      },
      "source": [
        "y_pred = model.predict(x_test)\n",
        "y_pred"
      ],
      "execution_count": null,
      "outputs": [
        {
          "output_type": "execute_result",
          "data": {
            "text/plain": [
              "array([1, 1, 1, ..., 1, 1, 1])"
            ]
          },
          "metadata": {
            "tags": []
          },
          "execution_count": 71
        }
      ]
    },
    {
      "cell_type": "code",
      "metadata": {
        "colab": {
          "base_uri": "https://localhost:8080/",
          "height": 181
        },
        "id": "w4eHhZMHn1b8",
        "outputId": "c7da6233-a150-4bff-af5e-a3c11b3bf41d"
      },
      "source": [
        "from sklearn.metrics import accuracy_score ,classification_report,confusion_matrix\n",
        "print(confusion_matrix(y_test,y_pred))\n",
        "pd.crosstab(y_test,y_pred)"
      ],
      "execution_count": null,
      "outputs": [
        {
          "output_type": "stream",
          "text": [
            "[[ 92643  57747]\n",
            " [   939 149163]]\n"
          ],
          "name": "stdout"
        },
        {
          "output_type": "execute_result",
          "data": {
            "text/html": [
              "<div>\n",
              "<style scoped>\n",
              "    .dataframe tbody tr th:only-of-type {\n",
              "        vertical-align: middle;\n",
              "    }\n",
              "\n",
              "    .dataframe tbody tr th {\n",
              "        vertical-align: top;\n",
              "    }\n",
              "\n",
              "    .dataframe thead th {\n",
              "        text-align: right;\n",
              "    }\n",
              "</style>\n",
              "<table border=\"1\" class=\"dataframe\">\n",
              "  <thead>\n",
              "    <tr style=\"text-align: right;\">\n",
              "      <th>col_0</th>\n",
              "      <th>0</th>\n",
              "      <th>1</th>\n",
              "    </tr>\n",
              "    <tr>\n",
              "      <th>row_0</th>\n",
              "      <th></th>\n",
              "      <th></th>\n",
              "    </tr>\n",
              "  </thead>\n",
              "  <tbody>\n",
              "    <tr>\n",
              "      <th>0</th>\n",
              "      <td>92643</td>\n",
              "      <td>57747</td>\n",
              "    </tr>\n",
              "    <tr>\n",
              "      <th>1</th>\n",
              "      <td>939</td>\n",
              "      <td>149163</td>\n",
              "    </tr>\n",
              "  </tbody>\n",
              "</table>\n",
              "</div>"
            ],
            "text/plain": [
              "col_0      0       1\n",
              "row_0               \n",
              "0      92643   57747\n",
              "1        939  149163"
            ]
          },
          "metadata": {
            "tags": []
          },
          "execution_count": 72
        }
      ]
    },
    {
      "cell_type": "code",
      "metadata": {
        "colab": {
          "base_uri": "https://localhost:8080/"
        },
        "id": "jatZonv1n8Iu",
        "outputId": "68a0c880-2037-413c-e8ae-de3783737eee"
      },
      "source": [
        "train=round(model.score(x_train,y_train) * 100, 2)\n",
        "train"
      ],
      "execution_count": null,
      "outputs": [
        {
          "output_type": "execute_result",
          "data": {
            "text/plain": [
              "80.59"
            ]
          },
          "metadata": {
            "tags": []
          },
          "execution_count": 113
        }
      ]
    },
    {
      "cell_type": "code",
      "metadata": {
        "colab": {
          "base_uri": "https://localhost:8080/"
        },
        "id": "gZSubfNMoEEb",
        "outputId": "a91e1c87-ac9f-46f8-c706-9c6bb7aab91f"
      },
      "source": [
        "test_acc=round(accuracy_score(y_test,y_pred)*100,2)\n",
        "test_acc"
      ],
      "execution_count": null,
      "outputs": [
        {
          "output_type": "execute_result",
          "data": {
            "text/plain": [
              "80.47"
            ]
          },
          "metadata": {
            "tags": []
          },
          "execution_count": 114
        }
      ]
    },
    {
      "cell_type": "markdown",
      "metadata": {
        "id": "v5q2yFywkHoE"
      },
      "source": [
        "**XGBoost**"
      ]
    },
    {
      "cell_type": "code",
      "metadata": {
        "id": "uE4dSXJboiNp"
      },
      "source": [
        "clf2 = XGBClassifier()\n",
        "n_estimators = [10,20,30]\n",
        "learning_rate = [0.1,0.2]\n",
        "subsample = [0.9,1.0,1.1]\n",
        "max_depth = [7,9,11,13]"
      ],
      "execution_count": null,
      "outputs": []
    },
    {
      "cell_type": "code",
      "metadata": {
        "colab": {
          "base_uri": "https://localhost:8080/"
        },
        "id": "OX5Ygsc9oh68",
        "outputId": "ca05e825-0e10-4728-aeea-e3bc7d13ff05"
      },
      "source": [
        "params2 = dict(n_estimators=n_estimators,learning_rate=learning_rate,subsample=subsample,max_depth=max_depth)\n",
        "cv = StratifiedKFold(n_splits=3,random_state=42)"
      ],
      "execution_count": null,
      "outputs": [
        {
          "output_type": "stream",
          "text": [
            "/usr/local/lib/python3.7/dist-packages/sklearn/model_selection/_split.py:296: FutureWarning: Setting a random_state has no effect since shuffle is False. This will raise an error in 0.24. You should leave random_state to its default (None), or set shuffle=True.\n",
            "  FutureWarning\n"
          ],
          "name": "stderr"
        }
      ]
    },
    {
      "cell_type": "code",
      "metadata": {
        "colab": {
          "base_uri": "https://localhost:8080/"
        },
        "id": "90AW-RxHpIfP",
        "outputId": "19d19afd-3d16-43ad-e755-8eec1ef84a33"
      },
      "source": [
        "grid = GridSearchCV(clf2,params2,scoring='accuracy',n_jobs=-1,cv=cv,error_score=0)\n",
        "grid.fit(x_train,y_train)"
      ],
      "execution_count": null,
      "outputs": [
        {
          "output_type": "execute_result",
          "data": {
            "text/plain": [
              "GridSearchCV(cv=StratifiedKFold(n_splits=3, random_state=42, shuffle=False),\n",
              "             error_score=0,\n",
              "             estimator=XGBClassifier(base_score=0.5, booster='gbtree',\n",
              "                                     colsample_bylevel=1, colsample_bynode=1,\n",
              "                                     colsample_bytree=1, gamma=0,\n",
              "                                     learning_rate=0.1, max_delta_step=0,\n",
              "                                     max_depth=3, min_child_weight=1,\n",
              "                                     missing=None, n_estimators=100, n_jobs=1,\n",
              "                                     nthread=None, objective='binary:logistic',\n",
              "                                     random_state=0, reg_alpha=0, reg_lambda=1,\n",
              "                                     scale_pos_weight=1, seed=None, silent=None,\n",
              "                                     subsample=1, verbosity=1),\n",
              "             iid='deprecated', n_jobs=-1,\n",
              "             param_grid={'learning_rate': [0.1, 0.2],\n",
              "                         'max_depth': [7, 9, 11, 13],\n",
              "                         'n_estimators': [10, 20, 30],\n",
              "                         'subsample': [0.9, 1.0, 1.1]},\n",
              "             pre_dispatch='2*n_jobs', refit=True, return_train_score=False,\n",
              "             scoring='accuracy', verbose=0)"
            ]
          },
          "metadata": {
            "tags": []
          },
          "execution_count": 81
        }
      ]
    },
    {
      "cell_type": "code",
      "metadata": {
        "colab": {
          "base_uri": "https://localhost:8080/"
        },
        "id": "JZWDgW3XpIWk",
        "outputId": "bfbde96e-ea9d-44a8-81cb-7e9dcb5c0e61"
      },
      "source": [
        "print(\"Best: %f using %s\" % (grid.best_score_,grid.best_params_))"
      ],
      "execution_count": null,
      "outputs": [
        {
          "output_type": "stream",
          "text": [
            "Best: 0.829207 using {'learning_rate': 0.2, 'max_depth': 13, 'n_estimators': 30, 'subsample': 0.9}\n"
          ],
          "name": "stdout"
        }
      ]
    },
    {
      "cell_type": "markdown",
      "metadata": {
        "id": "FD64hReBkUJH"
      },
      "source": [
        "###Model building using best Hyperparameters\n"
      ]
    },
    {
      "cell_type": "code",
      "metadata": {
        "colab": {
          "base_uri": "https://localhost:8080/"
        },
        "id": "m2vV70cZ9Ips",
        "outputId": "90cc8e0c-2b8a-4cd7-bcec-5ddb36995e0a"
      },
      "source": [
        "model2 = XGBClassifier(learning_rate= 0.2, max_depth= 13, n_estimators= 30, subsample= 0.9)\n",
        "model2.fit(x_train,y_train)"
      ],
      "execution_count": null,
      "outputs": [
        {
          "output_type": "execute_result",
          "data": {
            "text/plain": [
              "XGBClassifier(base_score=0.5, booster='gbtree', colsample_bylevel=1,\n",
              "              colsample_bynode=1, colsample_bytree=1, gamma=0,\n",
              "              learning_rate=0.2, max_delta_step=0, max_depth=13,\n",
              "              min_child_weight=1, missing=None, n_estimators=30, n_jobs=1,\n",
              "              nthread=None, objective='binary:logistic', random_state=0,\n",
              "              reg_alpha=0, reg_lambda=1, scale_pos_weight=1, seed=None,\n",
              "              silent=None, subsample=0.9, verbosity=1)"
            ]
          },
          "metadata": {
            "tags": []
          },
          "execution_count": 85
        }
      ]
    },
    {
      "cell_type": "code",
      "metadata": {
        "colab": {
          "base_uri": "https://localhost:8080/"
        },
        "id": "a8FbqArk-FvJ",
        "outputId": "33280ef2-21b8-44f1-ed2e-0bd624475681"
      },
      "source": [
        "y_pred2 = model2.predict(x_test)\n",
        "y_pred2"
      ],
      "execution_count": null,
      "outputs": [
        {
          "output_type": "execute_result",
          "data": {
            "text/plain": [
              "array([1, 1, 1, ..., 1, 1, 1])"
            ]
          },
          "metadata": {
            "tags": []
          },
          "execution_count": 115
        }
      ]
    },
    {
      "cell_type": "code",
      "metadata": {
        "colab": {
          "base_uri": "https://localhost:8080/",
          "height": 180
        },
        "id": "NbI54o4y-Nzz",
        "outputId": "acdcfd85-83be-4797-87b5-d8bcc0684914"
      },
      "source": [
        "from sklearn.metrics import accuracy_score ,classification_report,confusion_matrix\n",
        "print(confusion_matrix(y_test,y_pred2))\n",
        "pd.crosstab(y_test,y_pred2)"
      ],
      "execution_count": null,
      "outputs": [
        {
          "output_type": "stream",
          "text": [
            "[[ 99464  50926]\n",
            " [   276 149826]]\n"
          ],
          "name": "stdout"
        },
        {
          "output_type": "execute_result",
          "data": {
            "text/html": [
              "<div>\n",
              "<style scoped>\n",
              "    .dataframe tbody tr th:only-of-type {\n",
              "        vertical-align: middle;\n",
              "    }\n",
              "\n",
              "    .dataframe tbody tr th {\n",
              "        vertical-align: top;\n",
              "    }\n",
              "\n",
              "    .dataframe thead th {\n",
              "        text-align: right;\n",
              "    }\n",
              "</style>\n",
              "<table border=\"1\" class=\"dataframe\">\n",
              "  <thead>\n",
              "    <tr style=\"text-align: right;\">\n",
              "      <th>col_0</th>\n",
              "      <th>0</th>\n",
              "      <th>1</th>\n",
              "    </tr>\n",
              "    <tr>\n",
              "      <th>row_0</th>\n",
              "      <th></th>\n",
              "      <th></th>\n",
              "    </tr>\n",
              "  </thead>\n",
              "  <tbody>\n",
              "    <tr>\n",
              "      <th>0</th>\n",
              "      <td>99464</td>\n",
              "      <td>50926</td>\n",
              "    </tr>\n",
              "    <tr>\n",
              "      <th>1</th>\n",
              "      <td>276</td>\n",
              "      <td>149826</td>\n",
              "    </tr>\n",
              "  </tbody>\n",
              "</table>\n",
              "</div>"
            ],
            "text/plain": [
              "col_0      0       1\n",
              "row_0               \n",
              "0      99464   50926\n",
              "1        276  149826"
            ]
          },
          "metadata": {
            "tags": []
          },
          "execution_count": 116
        }
      ]
    },
    {
      "cell_type": "code",
      "metadata": {
        "colab": {
          "base_uri": "https://localhost:8080/"
        },
        "id": "qh-od142-WJD",
        "outputId": "2d9f2a35-d38a-4145-cdb0-bbb56487bd57"
      },
      "source": [
        "train=round(model2.score(x_train,y_train) * 100, 2)\n",
        "train"
      ],
      "execution_count": null,
      "outputs": [
        {
          "output_type": "execute_result",
          "data": {
            "text/plain": [
              "83.39"
            ]
          },
          "metadata": {
            "tags": []
          },
          "execution_count": 126
        }
      ]
    },
    {
      "cell_type": "code",
      "metadata": {
        "colab": {
          "base_uri": "https://localhost:8080/"
        },
        "id": "R3_EfX0R-WFV",
        "outputId": "3247f6e1-f8c9-4c18-8646-7a70e07b21e9"
      },
      "source": [
        "test_acc=round(accuracy_score(y_test,y_pred2)*100,2)\n",
        "test_acc"
      ],
      "execution_count": null,
      "outputs": [
        {
          "output_type": "execute_result",
          "data": {
            "text/plain": [
              "82.96"
            ]
          },
          "metadata": {
            "tags": []
          },
          "execution_count": 118
        }
      ]
    },
    {
      "cell_type": "markdown",
      "metadata": {
        "id": "kehtu3jjlGCM"
      },
      "source": [
        "**AdaBoost**"
      ]
    },
    {
      "cell_type": "code",
      "metadata": {
        "id": "lTOEchmh-V0o",
        "colab": {
          "base_uri": "https://localhost:8080/"
        },
        "outputId": "8d8da1cd-bf36-41ed-c6e2-9ddbc6d3c781"
      },
      "source": [
        "clf3 = AdaBoostClassifier()\n",
        "params3 = {'n_estimators': [10,20,50]}\n",
        "cv = StratifiedKFold(n_splits=3,random_state=42)"
      ],
      "execution_count": null,
      "outputs": [
        {
          "output_type": "stream",
          "text": [
            "/usr/local/lib/python3.7/dist-packages/sklearn/model_selection/_split.py:296: FutureWarning: Setting a random_state has no effect since shuffle is False. This will raise an error in 0.24. You should leave random_state to its default (None), or set shuffle=True.\n",
            "  FutureWarning\n"
          ],
          "name": "stderr"
        }
      ]
    },
    {
      "cell_type": "code",
      "metadata": {
        "colab": {
          "base_uri": "https://localhost:8080/"
        },
        "id": "Zf2kIEuyJKS8",
        "outputId": "2403eb80-06ba-4e91-abb6-dd77bde61e07"
      },
      "source": [
        "grid = GridSearchCV(clf3,params3,scoring='accuracy',n_jobs=-1,cv=cv,error_score=0)\n",
        "grid.fit(x_train,y_train)"
      ],
      "execution_count": null,
      "outputs": [
        {
          "output_type": "execute_result",
          "data": {
            "text/plain": [
              "GridSearchCV(cv=StratifiedKFold(n_splits=3, random_state=42, shuffle=False),\n",
              "             error_score=0,\n",
              "             estimator=AdaBoostClassifier(algorithm='SAMME.R',\n",
              "                                          base_estimator=None,\n",
              "                                          learning_rate=1.0, n_estimators=50,\n",
              "                                          random_state=None),\n",
              "             iid='deprecated', n_jobs=-1,\n",
              "             param_grid={'n_estimators': [10, 20, 50]}, pre_dispatch='2*n_jobs',\n",
              "             refit=True, return_train_score=False, scoring='accuracy',\n",
              "             verbose=0)"
            ]
          },
          "metadata": {
            "tags": []
          },
          "execution_count": 96
        }
      ]
    },
    {
      "cell_type": "code",
      "metadata": {
        "colab": {
          "base_uri": "https://localhost:8080/"
        },
        "id": "PGzM6bVWJblq",
        "outputId": "995bb982-aa1d-4c43-8acf-d95bb790d053"
      },
      "source": [
        "print(\"Best: %f using %s\" % (grid.best_score_,grid.best_params_))"
      ],
      "execution_count": null,
      "outputs": [
        {
          "output_type": "stream",
          "text": [
            "Best: 0.786077 using {'n_estimators': 50}\n"
          ],
          "name": "stdout"
        }
      ]
    },
    {
      "cell_type": "code",
      "metadata": {
        "colab": {
          "base_uri": "https://localhost:8080/"
        },
        "id": "sTENPv-AmqFx",
        "outputId": "4f5966d0-d7ed-4c4d-d2ce-fee3350c5f76"
      },
      "source": [
        "model3 = AdaBoostClassifier(DecisionTreeClassifier(criterion='gini',max_depth=10,max_features=9),n_estimators=50)\n",
        "model3.fit(x_train,y_train)"
      ],
      "execution_count": null,
      "outputs": [
        {
          "output_type": "execute_result",
          "data": {
            "text/plain": [
              "AdaBoostClassifier(algorithm='SAMME.R',\n",
              "                   base_estimator=DecisionTreeClassifier(ccp_alpha=0.0,\n",
              "                                                         class_weight=None,\n",
              "                                                         criterion='gini',\n",
              "                                                         max_depth=10,\n",
              "                                                         max_features=9,\n",
              "                                                         max_leaf_nodes=None,\n",
              "                                                         min_impurity_decrease=0.0,\n",
              "                                                         min_impurity_split=None,\n",
              "                                                         min_samples_leaf=1,\n",
              "                                                         min_samples_split=2,\n",
              "                                                         min_weight_fraction_leaf=0.0,\n",
              "                                                         presort='deprecated',\n",
              "                                                         random_state=None,\n",
              "                                                         splitter='best'),\n",
              "                   learning_rate=1.0, n_estimators=50, random_state=None)"
            ]
          },
          "metadata": {
            "tags": []
          },
          "execution_count": 98
        }
      ]
    },
    {
      "cell_type": "code",
      "metadata": {
        "colab": {
          "base_uri": "https://localhost:8080/"
        },
        "id": "n3eDfggUnRSc",
        "outputId": "39470b30-1224-4c5c-b752-79c857e28ef8"
      },
      "source": [
        "y_pred3 = model3.predict(x_test)\n",
        "y_pred3"
      ],
      "execution_count": null,
      "outputs": [
        {
          "output_type": "execute_result",
          "data": {
            "text/plain": [
              "array([1, 1, 1, ..., 1, 1, 1])"
            ]
          },
          "metadata": {
            "tags": []
          },
          "execution_count": 119
        }
      ]
    },
    {
      "cell_type": "code",
      "metadata": {
        "colab": {
          "base_uri": "https://localhost:8080/",
          "height": 180
        },
        "id": "CXwEpBm0nRHF",
        "outputId": "1bdf861f-d213-4c87-f27e-716b0b89a769"
      },
      "source": [
        "from sklearn.metrics import accuracy_score ,classification_report,confusion_matrix\n",
        "print(confusion_matrix(y_test,y_pred3))\n",
        "pd.crosstab(y_test,y_pred3)"
      ],
      "execution_count": null,
      "outputs": [
        {
          "output_type": "stream",
          "text": [
            "[[102208  48182]\n",
            " [  5982 144120]]\n"
          ],
          "name": "stdout"
        },
        {
          "output_type": "execute_result",
          "data": {
            "text/html": [
              "<div>\n",
              "<style scoped>\n",
              "    .dataframe tbody tr th:only-of-type {\n",
              "        vertical-align: middle;\n",
              "    }\n",
              "\n",
              "    .dataframe tbody tr th {\n",
              "        vertical-align: top;\n",
              "    }\n",
              "\n",
              "    .dataframe thead th {\n",
              "        text-align: right;\n",
              "    }\n",
              "</style>\n",
              "<table border=\"1\" class=\"dataframe\">\n",
              "  <thead>\n",
              "    <tr style=\"text-align: right;\">\n",
              "      <th>col_0</th>\n",
              "      <th>0</th>\n",
              "      <th>1</th>\n",
              "    </tr>\n",
              "    <tr>\n",
              "      <th>row_0</th>\n",
              "      <th></th>\n",
              "      <th></th>\n",
              "    </tr>\n",
              "  </thead>\n",
              "  <tbody>\n",
              "    <tr>\n",
              "      <th>0</th>\n",
              "      <td>102208</td>\n",
              "      <td>48182</td>\n",
              "    </tr>\n",
              "    <tr>\n",
              "      <th>1</th>\n",
              "      <td>5982</td>\n",
              "      <td>144120</td>\n",
              "    </tr>\n",
              "  </tbody>\n",
              "</table>\n",
              "</div>"
            ],
            "text/plain": [
              "col_0       0       1\n",
              "row_0                \n",
              "0      102208   48182\n",
              "1        5982  144120"
            ]
          },
          "metadata": {
            "tags": []
          },
          "execution_count": 120
        }
      ]
    },
    {
      "cell_type": "code",
      "metadata": {
        "colab": {
          "base_uri": "https://localhost:8080/"
        },
        "id": "OGUvZBmcnblN",
        "outputId": "8427f18b-5c9d-46a3-9535-8703f0718524"
      },
      "source": [
        "train=round(model3.score(x_train,y_train) * 100, 2)\n",
        "train"
      ],
      "execution_count": null,
      "outputs": [
        {
          "output_type": "execute_result",
          "data": {
            "text/plain": [
              "84.77"
            ]
          },
          "metadata": {
            "tags": []
          },
          "execution_count": 127
        }
      ]
    },
    {
      "cell_type": "code",
      "metadata": {
        "colab": {
          "base_uri": "https://localhost:8080/"
        },
        "id": "px2ptHRgncnc",
        "outputId": "7916fe22-9f24-438d-b729-f123f72c423f"
      },
      "source": [
        "test_acc=round(accuracy_score(y_test,y_pred3)*100,2)\n",
        "test_acc"
      ],
      "execution_count": null,
      "outputs": [
        {
          "output_type": "execute_result",
          "data": {
            "text/plain": [
              "81.97"
            ]
          },
          "metadata": {
            "tags": []
          },
          "execution_count": 122
        }
      ]
    },
    {
      "cell_type": "markdown",
      "metadata": {
        "id": "AK203Tl0shcf"
      },
      "source": [
        "**Logistic Regression**"
      ]
    },
    {
      "cell_type": "code",
      "metadata": {
        "colab": {
          "base_uri": "https://localhost:8080/"
        },
        "id": "5zzvS00xqH2l",
        "outputId": "af283532-3616-4559-ba0f-ada77ede1d09"
      },
      "source": [
        "model4= LogisticRegression()\n",
        "model4.fit(x_train,y_train)"
      ],
      "execution_count": null,
      "outputs": [
        {
          "output_type": "execute_result",
          "data": {
            "text/plain": [
              "LogisticRegression(C=1.0, class_weight=None, dual=False, fit_intercept=True,\n",
              "                   intercept_scaling=1, l1_ratio=None, max_iter=100,\n",
              "                   multi_class='auto', n_jobs=None, penalty='l2',\n",
              "                   random_state=None, solver='lbfgs', tol=0.0001, verbose=0,\n",
              "                   warm_start=False)"
            ]
          },
          "metadata": {
            "tags": []
          },
          "execution_count": 131
        }
      ]
    },
    {
      "cell_type": "code",
      "metadata": {
        "colab": {
          "base_uri": "https://localhost:8080/"
        },
        "id": "9-4zrEPhqHzc",
        "outputId": "a6dab88e-c123-402d-b09b-c0fca3b24408"
      },
      "source": [
        "y_pred4 = model.predict(x_test)\n",
        "y_pred4"
      ],
      "execution_count": null,
      "outputs": [
        {
          "output_type": "execute_result",
          "data": {
            "text/plain": [
              "array([1, 1, 1, ..., 1, 1, 1])"
            ]
          },
          "metadata": {
            "tags": []
          },
          "execution_count": 132
        }
      ]
    },
    {
      "cell_type": "code",
      "metadata": {
        "colab": {
          "base_uri": "https://localhost:8080/",
          "height": 180
        },
        "id": "C93VvqogqHv-",
        "outputId": "78b56939-ecc1-4bab-fe73-7304acbf6970"
      },
      "source": [
        "from sklearn.metrics import accuracy_score ,classification_report,confusion_matrix\n",
        "print(confusion_matrix(y_test,y_pred4))\n",
        "pd.crosstab(y_test,y_pred4)"
      ],
      "execution_count": null,
      "outputs": [
        {
          "output_type": "stream",
          "text": [
            "[[ 92643  57747]\n",
            " [   939 149163]]\n"
          ],
          "name": "stdout"
        },
        {
          "output_type": "execute_result",
          "data": {
            "text/html": [
              "<div>\n",
              "<style scoped>\n",
              "    .dataframe tbody tr th:only-of-type {\n",
              "        vertical-align: middle;\n",
              "    }\n",
              "\n",
              "    .dataframe tbody tr th {\n",
              "        vertical-align: top;\n",
              "    }\n",
              "\n",
              "    .dataframe thead th {\n",
              "        text-align: right;\n",
              "    }\n",
              "</style>\n",
              "<table border=\"1\" class=\"dataframe\">\n",
              "  <thead>\n",
              "    <tr style=\"text-align: right;\">\n",
              "      <th>col_0</th>\n",
              "      <th>0</th>\n",
              "      <th>1</th>\n",
              "    </tr>\n",
              "    <tr>\n",
              "      <th>row_0</th>\n",
              "      <th></th>\n",
              "      <th></th>\n",
              "    </tr>\n",
              "  </thead>\n",
              "  <tbody>\n",
              "    <tr>\n",
              "      <th>0</th>\n",
              "      <td>92643</td>\n",
              "      <td>57747</td>\n",
              "    </tr>\n",
              "    <tr>\n",
              "      <th>1</th>\n",
              "      <td>939</td>\n",
              "      <td>149163</td>\n",
              "    </tr>\n",
              "  </tbody>\n",
              "</table>\n",
              "</div>"
            ],
            "text/plain": [
              "col_0      0       1\n",
              "row_0               \n",
              "0      92643   57747\n",
              "1        939  149163"
            ]
          },
          "metadata": {
            "tags": []
          },
          "execution_count": 133
        }
      ]
    },
    {
      "cell_type": "code",
      "metadata": {
        "colab": {
          "base_uri": "https://localhost:8080/"
        },
        "id": "GibXF9MMqHjF",
        "outputId": "5159370a-8c1b-4764-ec37-9172a0218ebf"
      },
      "source": [
        "train=round(Model4.score(x_train,y_train) * 100, 2)\n",
        "train"
      ],
      "execution_count": null,
      "outputs": [
        {
          "output_type": "execute_result",
          "data": {
            "text/plain": [
              "50.48"
            ]
          },
          "metadata": {
            "tags": []
          },
          "execution_count": 134
        }
      ]
    },
    {
      "cell_type": "code",
      "metadata": {
        "colab": {
          "base_uri": "https://localhost:8080/"
        },
        "id": "kniYkIm-sS4S",
        "outputId": "15e4956d-485e-4dad-ff01-ce8f85a158da"
      },
      "source": [
        "test_acc=round(accuracy_score(y_test,y_pred4)*100,2)\n",
        "test_acc"
      ],
      "execution_count": null,
      "outputs": [
        {
          "output_type": "execute_result",
          "data": {
            "text/plain": [
              "80.47"
            ]
          },
          "metadata": {
            "tags": []
          },
          "execution_count": 135
        }
      ]
    }
  ]
}